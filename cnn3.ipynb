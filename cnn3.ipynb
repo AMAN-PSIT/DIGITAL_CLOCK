{
  "nbformat": 4,
  "nbformat_minor": 0,
  "metadata": {
    "colab": {
      "provenance": [],
      "gpuType": "T4",
      "mount_file_id": "1Idm8_Vq9jfWstMtFHjb01J8rXbEpyE-6",
      "authorship_tag": "ABX9TyNBBRM38MtsXHnDOorcfzwf",
      "include_colab_link": true
    },
    "kernelspec": {
      "name": "python3",
      "display_name": "Python 3"
    },
    "language_info": {
      "name": "python"
    },
    "accelerator": "GPU"
  },
  "cells": [
    {
      "cell_type": "markdown",
      "metadata": {
        "id": "view-in-github",
        "colab_type": "text"
      },
      "source": [
        "<a href=\"https://colab.research.google.com/github/AMAN-PSIT/DIGITAL_CLOCK/blob/main/cnn3.ipynb\" target=\"_parent\"><img src=\"https://colab.research.google.com/assets/colab-badge.svg\" alt=\"Open In Colab\"/></a>"
      ]
    },
    {
      "cell_type": "code",
      "execution_count": 1,
      "metadata": {
        "colab": {
          "base_uri": "https://localhost:8080/"
        },
        "id": "s_PrKzuJtcw8",
        "outputId": "5865a4e6-3685-4685-8a66-c1b07cc1239b"
      },
      "outputs": [
        {
          "output_type": "stream",
          "name": "stdout",
          "text": [
            "Image Cleaning\n"
          ]
        }
      ],
      "source": [
        "print(\"Image Cleaning\")"
      ]
    },
    {
      "cell_type": "code",
      "source": [
        "path=r\"/content/drive/MyDrive/output\""
      ],
      "metadata": {
        "id": "9wF2Psrmt8IE"
      },
      "execution_count": 3,
      "outputs": []
    },
    {
      "cell_type": "code",
      "source": [
        "corrupt_files=[]"
      ],
      "metadata": {
        "id": "KGmUfSHnuPYL"
      },
      "execution_count": 4,
      "outputs": []
    },
    {
      "cell_type": "code",
      "source": [
        "import os\n",
        "import cv2\n",
        "image_files = [f for f in os.listdir(path) if f.endswith(('.jpg', '.jpeg', '.png', '.bmp', '.gif'))]\n"
      ],
      "metadata": {
        "id": "T4rEww0qudSZ"
      },
      "execution_count": 7,
      "outputs": []
    },
    {
      "cell_type": "code",
      "source": [
        "for image in image_files:\n",
        "  try:\n",
        "    image_path=os.path.join(path,image)\n",
        "    img=cv2.imread(image_path)\n",
        "    if img is None:\n",
        "      corrupt_files.append(image)\n",
        "  except Exception as e:\n",
        "    corrupt_files.append(image)"
      ],
      "metadata": {
        "id": "V1ITE_7qu4Uq"
      },
      "execution_count": 8,
      "outputs": []
    },
    {
      "cell_type": "code",
      "source": [
        "corrupt_files"
      ],
      "metadata": {
        "colab": {
          "base_uri": "https://localhost:8080/"
        },
        "id": "-kCVoKVuv08A",
        "outputId": "6518b2f3-5bf8-4ad6-d7e7-cd04ed5098d3"
      },
      "execution_count": 9,
      "outputs": [
        {
          "output_type": "execute_result",
          "data": {
            "text/plain": [
              "[]"
            ]
          },
          "metadata": {},
          "execution_count": 9
        }
      ]
    },
    {
      "cell_type": "code",
      "source": [
        "for name in corrupt_files:\n",
        "  os.remove(os.path.join(path,name))\n",
        "print(\"Successfull\")"
      ],
      "metadata": {
        "colab": {
          "base_uri": "https://localhost:8080/"
        },
        "id": "L1E7_e5hv5rO",
        "outputId": "de8e62f5-08b5-4a91-e35d-39d3d75489fe"
      },
      "execution_count": 10,
      "outputs": [
        {
          "output_type": "stream",
          "name": "stdout",
          "text": [
            "Successfull\n"
          ]
        }
      ]
    }
  ]
}